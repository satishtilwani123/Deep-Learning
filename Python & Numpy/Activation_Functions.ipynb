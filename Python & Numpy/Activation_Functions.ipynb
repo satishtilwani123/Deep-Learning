{
  "nbformat": 4,
  "nbformat_minor": 0,
  "metadata": {
    "colab": {
      "name": "Activation Functions.ipynb",
      "provenance": []
    },
    "kernelspec": {
      "name": "python3",
      "display_name": "Python 3"
    }
  },
  "cells": [
    {
      "cell_type": "code",
      "metadata": {
        "id": "FttT7gc_hrk8"
      },
      "source": [
        "import numpy as np\r\n",
        "import math"
      ],
      "execution_count": 13,
      "outputs": []
    },
    {
      "cell_type": "code",
      "metadata": {
        "id": "K9_n0niBhxh-"
      },
      "source": [
        "#Sigmoid Function\r\n",
        "def sigmoid(x):\r\n",
        "  activation = 1/(1 + np.exp(-x))\r\n",
        "  return activation"
      ],
      "execution_count": 14,
      "outputs": []
    },
    {
      "cell_type": "code",
      "metadata": {
        "colab": {
          "base_uri": "https://localhost:8080/"
        },
        "id": "0XtU-GrFh2f8",
        "outputId": "edeb0728-d3e1-45be-f624-d88fc9867e48"
      },
      "source": [
        "act = sigmoid(np.array([1,2,3]))\r\n",
        "print(act)"
      ],
      "execution_count": 15,
      "outputs": [
        {
          "output_type": "stream",
          "text": [
            "[0.73105858 0.88079708 0.95257413]\n"
          ],
          "name": "stdout"
        }
      ]
    },
    {
      "cell_type": "code",
      "metadata": {
        "id": "LYehs3OOh5ie"
      },
      "source": [
        "#Hyperbolic Tanh Function\r\n",
        "def Tanh(x):\r\n",
        "  activation = ((np.exp(x) - np.exp(-x))/(np.exp(x) + np.exp(-x))); \r\n",
        "  return activation"
      ],
      "execution_count": 16,
      "outputs": []
    },
    {
      "cell_type": "code",
      "metadata": {
        "colab": {
          "base_uri": "https://localhost:8080/"
        },
        "id": "o7jNvBfxh6b6",
        "outputId": "cc4e21f9-97fe-4765-98ec-cf4a0c7eb036"
      },
      "source": [
        "act = Tanh(np.array([1,2,3]))\r\n",
        "print(act)"
      ],
      "execution_count": 17,
      "outputs": [
        {
          "output_type": "stream",
          "text": [
            "[0.76159416 0.96402758 0.99505475]\n"
          ],
          "name": "stdout"
        }
      ]
    },
    {
      "cell_type": "code",
      "metadata": {
        "id": "FgppqNYBh-Ti"
      },
      "source": [
        "#Softmax Function\r\n",
        "def Softmax(x):\r\n",
        "  exp = np.exp(x)\r\n",
        "  activation = exp/exp.sum()\r\n",
        "  return activation "
      ],
      "execution_count": 18,
      "outputs": []
    },
    {
      "cell_type": "code",
      "metadata": {
        "colab": {
          "base_uri": "https://localhost:8080/"
        },
        "id": "z5wRkPT8iCTK",
        "outputId": "e7460150-d6b8-4988-ad53-57826e7256dc"
      },
      "source": [
        "act = Softmax(np.array([3.0,1.0,0.2]))\r\n",
        "print(act)"
      ],
      "execution_count": 19,
      "outputs": [
        {
          "output_type": "stream",
          "text": [
            "[0.8360188  0.11314284 0.05083836]\n"
          ],
          "name": "stdout"
        }
      ]
    },
    {
      "cell_type": "code",
      "metadata": {
        "id": "kr_zYBZJi4Sq"
      },
      "source": [
        "#RELU Function\r\n",
        "def RELU(X):\r\n",
        "   return np.maximum(0,X)"
      ],
      "execution_count": 20,
      "outputs": []
    },
    {
      "cell_type": "code",
      "metadata": {
        "colab": {
          "base_uri": "https://localhost:8080/"
        },
        "id": "zwhsY1pgi8E2",
        "outputId": "fcb8dd10-d80a-4278-f2e8-fb761a18f758"
      },
      "source": [
        "act = RELU(np.array([-1,2,3]))\r\n",
        "print(act)"
      ],
      "execution_count": 21,
      "outputs": [
        {
          "output_type": "stream",
          "text": [
            "[0 2 3]\n"
          ],
          "name": "stdout"
        }
      ]
    }
  ]
}